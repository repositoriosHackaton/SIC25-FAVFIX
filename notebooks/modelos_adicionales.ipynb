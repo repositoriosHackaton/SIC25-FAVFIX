{
 "cells": [
  {
   "cell_type": "markdown",
   "metadata": {},
   "source": [
    "# 🤖 Detección de Suicidio y Depresión con Múltiples Modelos de ML 🧠\n",
    "Este notebook implementa varios modelos de machine learning para detectar señales de suicidio y depresión en textos.\n",
    "## 📋 Contenido:\n",
    "1. 📚 Importación de librerías\n",
    "2. 🔍 Carga y exploración de datos\n",
    "3. 🧹 Preprocesamiento de texto\n",
    "4. 🎯 Entrenamiento de modelos\n",
    "5. 📈 Evaluación y comparación\n",
    "6. 💾 Guardado de modelos\n",
    "\n",
    "¡Empecemos! 🚀\n",
    "## 1. 📚 Importación de Librerías"
   ]
  },
  {
   "cell_type": "code",
   "execution_count": 1,
   "metadata": {},
   "outputs": [],
   "source": [
    "# Librerías básicas 📊\n",
    "import pandas as pd\n",
    "import numpy as np\n",
    "import matplotlib.pyplot as plt\n",
    "import seaborn as sns\n",
    "\n",
    "# Procesamiento de texto 📝\n",
    "import nltk\n",
    "from nltk.corpus import stopwords\n",
    "from nltk.stem import WordNetLemmatizer\n",
    "import string\n",
    "\n",
    "# Modelos de Machine Learning 🤖\n",
    "from sklearn.model_selection import train_test_split\n",
    "from sklearn.metrics import accuracy_score, classification_report, confusion_matrix, roc_curve, auc\n",
    "from sklearn.feature_extraction.text import TfidfVectorizer\n",
    "from sklearn.linear_model import LogisticRegression\n",
    "from sklearn.naive_bayes import MultinomialNB\n",
    "from sklearn.svm import SVC\n",
    "from sklearn.ensemble import RandomForestClassifier\n",
    "import xgboost as xgb\n",
    "\n",
    "# Utilidades 🛠️\n",
    "import joblib\n",
    "\n",
    "# Configuración de visualización 🎨\n",
    "plt.style.use('default')  # Cambiamos 'seaborn' por 'default'\n",
    "sns.set_theme()  # Esto configura el estilo de seaborn de manera correcta"
   ]
  },
  {
   "cell_type": "markdown",
   "metadata": {},
   "source": [
    "## 2. 🔍 Carga y Exploración de Datos"
   ]
  },
  {
   "cell_type": "code",
   "execution_count": 2,
   "metadata": {},
   "outputs": [
    {
     "name": "stdout",
     "output_type": "stream",
     "text": [
      "Descargando recursos de NLTK... 📥\n"
     ]
    },
    {
     "name": "stderr",
     "output_type": "stream",
     "text": [
      "[nltk_data] Downloading package stopwords to\n",
      "[nltk_data]     C:\\Users\\cdori\\AppData\\Roaming\\nltk_data...\n",
      "[nltk_data]   Package stopwords is already up-to-date!\n",
      "[nltk_data] Downloading package punkt to\n",
      "[nltk_data]     C:\\Users\\cdori\\AppData\\Roaming\\nltk_data...\n",
      "[nltk_data]   Package punkt is already up-to-date!\n",
      "[nltk_data] Downloading package wordnet to\n",
      "[nltk_data]     C:\\Users\\cdori\\AppData\\Roaming\\nltk_data...\n",
      "[nltk_data]   Package wordnet is already up-to-date!\n"
     ]
    },
    {
     "name": "stdout",
     "output_type": "stream",
     "text": [
      "\n",
      "Cargando datos... 📂\n",
      "\n",
      "📊 Dimensiones del dataset: (80000, 3)\n",
      "\n",
      "📈 Distribución de clases:\n",
      "class\n",
      "suicide        40000\n",
      "non-suicide    40000\n",
      "Name: count, dtype: int64\n"
     ]
    },
    {
     "name": "stderr",
     "output_type": "stream",
     "text": [
      "c:\\Users\\cdori\\Music\\proyecto\\hackaton\\SIC25-FAVFIX\\env\\Lib\\site-packages\\IPython\\core\\pylabtools.py:170: UserWarning: Glyph 128202 (\\N{BAR CHART}) missing from font(s) Arial.\n",
      "  fig.canvas.print_figure(bytes_io, **kw)\n"
     ]
    },
    {
     "data": {
      "image/png": "[encoded data removed]",
      "text/plain": [
       "<Figure size 1000x600 with 1 Axes>"
      ]
     },
     "metadata": {},
     "output_type": "display_data"
    }
   ],
   "source": [
    "# Descarga de recursos NLTK 📥\n",
    "print(\"Descargando recursos de NLTK... 📥\")\n",
    "nltk.download('stopwords')\n",
    "nltk.download('punkt')\n",
    "nltk.download('wordnet')\n",
    "\n",
    "# Carga de datos 📊\n",
    "print(\"\\nCargando datos... 📂\")\n",
    "df_extendida = pd.read_csv('Suicide_Detection.csv')\n",
    "df = df_extendida.sample(n=80000, random_state=42)\n",
    "\n",
    "# Información del dataset\n",
    "print(\"\\n📊 Dimensiones del dataset:\", df.shape)\n",
    "print(\"\\n📈 Distribución de clases:\")\n",
    "print(df['class'].value_counts())\n",
    "\n",
    "# Visualización de la distribución de clases\n",
    "plt.figure(figsize=(10, 6))\n",
    "sns.countplot(data=df, x='class')\n",
    "plt.title('📊 Distribución de Clases')\n",
    "plt.xlabel('Clase')\n",
    "plt.ylabel('Cantidad')\n",
    "plt.show()"
   ]
  },
  {
   "cell_type": "markdown",
   "metadata": {},
   "source": [
    "## 3. 🧹 Preprocesamiento de Texto"
   ]
  },
  {
   "cell_type": "code",
   "execution_count": 3,
   "metadata": {},
   "outputs": [
    {
     "name": "stdout",
     "output_type": "stream",
     "text": [
      "Aplicando preprocesamiento de texto... 🧹\n",
      "Realizando vectorización TF-IDF... 🔢\n"
     ]
    }
   ],
   "source": [
    "# Configuración del preprocesamiento 🛠️\n",
    "stop_words_english = stopwords.words('english')\n",
    "lemmatizer = WordNetLemmatizer()\n",
    "\n",
    "def preprocess_text(text):\n",
    "    # 1. Minúsculas 📝\n",
    "    text = text.lower()\n",
    "    # 2. Eliminar puntuación ✂️\n",
    "    text = ''.join([char for char in text if char not in string.punctuation])\n",
    "    # 3. Tokenización 🔍\n",
    "    tokens = text.split()\n",
    "    # 4. Eliminar Stop Words 🚫\n",
    "    tokens = [word for word in tokens if word not in stop_words_english]\n",
    "    # 5. Lematización 🔄\n",
    "    tokens = [lemmatizer.lemmatize(word) for word in tokens]\n",
    "    return ' '.join(tokens)\n",
    "\n",
    "# Aplicar preprocesamiento\n",
    "print(\"Aplicando preprocesamiento de texto... 🧹\")\n",
    "df['texto_preprocesado'] = df['text'].apply(preprocess_text)\n",
    "\n",
    "# Vectorización TF-IDF\n",
    "print(\"Realizando vectorización TF-IDF... 🔢\")\n",
    "tfidf_vectorizer = TfidfVectorizer(max_features=5000)\n",
    "X = tfidf_vectorizer.fit_transform(df['texto_preprocesado'])\n",
    "y = (df['class'] == 'suicide').astype(int)\n",
    "\n",
    "# División de datos\n",
    "X_train, X_test, y_train, y_test = train_test_split(X, y, test_size=0.2, random_state=42, stratify=y)"
   ]
  },
  {
   "cell_type": "markdown",
   "metadata": {},
   "source": [
    "## 4. 🎯 Entrenamiento de Modelos"
   ]
  },
  {
   "cell_type": "code",
   "execution_count": null,
   "metadata": {},
   "outputs": [],
   "source": [
    "# Definición de modelos 🤖\n",
    "modelos = {\n",
    "\n",
    "    'XGBoost 🌳': xgb.XGBClassifier(\n",
    "        max_depth=6,\n",
    "        learning_rate=0.1,\n",
    "        n_estimators=100,\n",
    "        use_label_encoder=False,\n",
    "        eval_metric='logloss'\n",
    "    ),\n",
    "    'Random Forest 🌲': RandomForestClassifier(\n",
    "        n_estimators=200,\n",
    "        max_depth=10,\n",
    "        min_samples_split=5,\n",
    "        min_samples_leaf=2,\n",
    "        random_state=42,\n",
    "        n_jobs=-1\n",
    "    )\n",
    "}\n",
    "\n",
    "# Entrenamiento y evaluación 📈\n",
    "resultados = {}\n",
    "for nombre_modelo, modelo in modelos.items():\n",
    "    print(f\"\\nEntrenando modelo: {nombre_modelo} 🚀\")\n",
    "    modelo.fit(X_train, y_train)\n",
    "    y_pred = modelo.predict(X_test)\n",
    "    \n",
    "    # Métricas\n",
    "    accuracy = accuracy_score(y_test, y_pred)\n",
    "    reporte = classification_report(y_test, y_pred)\n",
    "    matriz_confusion = confusion_matrix(y_test, y_pred)\n",
    "    \n",
    "    resultados[nombre_modelo] = {\n",
    "        'accuracy': accuracy,\n",
    "        'reporte': reporte,\n",
    "        'matriz_confusion': matriz_confusion,\n",
    "        'modelo': modelo\n",
    "    }\n",
    "    \n",
    "    # Visualización de matriz de confusión\n",
    "    plt.figure(figsize=(8, 6))\n",
    "    sns.heatmap(matriz_confusion, annot=True, fmt='d', cmap='Blues')\n",
    "    plt.title(f'Matriz de Confusión - {nombre_modelo} 📊')\n",
    "    plt.xlabel('Predicción')\n",
    "    plt.ylabel('Real')\n",
    "    plt.show()"
   ]
  },
  {
   "cell_type": "markdown",
   "metadata": {},
   "source": [
    "## 5. 📈 Evaluación y Comparación"
   ]
  },
  {
   "cell_type": "code",
   "execution_count": null,
   "metadata": {},
   "outputs": [],
   "source": [
    "# Comparación de todos los modelos\n",
    "print(\"\\n🏆 === Comparación de Modelos ===\")\n",
    "print(\"📊 Accuracy Scores:\")\n",
    "for nombre_modelo, res in resultados.items():\n",
    "    print(f\"{nombre_modelo}: {res['accuracy']:.4f}\")\n",
    "    print(\"\\nReporte de clasificación:\")\n",
    "    print(res['reporte'])\n",
    "\n",
    "# Curvas ROC\n",
    "plt.figure(figsize=(10, 8))\n",
    "for nombre_modelo, res in resultados.items():\n",
    "    y_pred_proba = res['modelo'].predict_proba(X_test)[:, 1]\n",
    "    fpr, tpr, _ = roc_curve(y_test, y_pred_proba)\n",
    "    roc_auc = auc(fpr, tpr)\n",
    "    plt.plot(fpr, tpr, label=f'{nombre_modelo} (AUC = {roc_auc:.3f})')\n",
    "\n",
    "plt.plot([0, 1], [0, 1], 'k--')\n",
    "plt.xlabel('Tasa de Falsos Positivos')\n",
    "plt.ylabel('Tasa de Verdaderos Positivos')\n",
    "plt.title('📊 Curvas ROC para todos los modelos')\n",
    "plt.legend()\n",
    "plt.show()"
   ]
  },
  {
   "cell_type": "markdown",
   "metadata": {},
   "source": [
    "## 6. 💾 Guardado de Modelos"
   ]
  },
  {
   "cell_type": "code",
   "execution_count": null,
   "metadata": {},
   "outputs": [],
   "source": [
    "print(\"Guardando los modelos... 💾\")\n",
    "for nombre_modelo, res in resultados.items():\n",
    "    joblib.dump(res['modelo'], f'modelo_{nombre_modelo.lower().replace(\" \", \"_\")}.joblib')\n",
    "    print(f\"✅ Modelo {nombre_modelo} guardado\")\n",
    "\n",
    "# Guardar el vectorizador\n",
    "joblib.dump(tfidf_vectorizer, 'tfidf_vectorizador.joblib')\n",
    "print(\"✅ Vectorizador TF-IDF guardado\")\n",
    "\n",
    "print(\"\\n🎉 ¡Proceso completado con éxito! 🎉\")"
   ]
  }
 ],
 "metadata": {
  "kernelspec": {
   "display_name": "env",
   "language": "python",
   "name": "python3"
  },
  "language_info": {
   "codemirror_mode": {
    "name": "ipython",
    "version": 3
   },
   "file_extension": ".py",
   "mimetype": "text/x-python",
   "name": "python",
   "nbconvert_exporter": "python",
   "pygments_lexer": "ipython3",
   "version": "3.11.0"
  }
 },
 "nbformat": 4,
 "nbformat_minor": 2
}
